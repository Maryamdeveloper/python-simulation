{
  "nbformat": 4,
  "nbformat_minor": 0,
  "metadata": {
    "colab": {
      "provenance": [],
      "authorship_tag": "ABX9TyNgixlWfJMb/fILlcI0FmzM",
      "include_colab_link": true
    },
    "kernelspec": {
      "name": "python3",
      "display_name": "Python 3"
    },
    "language_info": {
      "name": "python"
    }
  },
  "cells": [
    {
      "cell_type": "markdown",
      "metadata": {
        "id": "view-in-github",
        "colab_type": "text"
      },
      "source": [
        "<a href=\"https://colab.research.google.com/github/Maryamdeveloper/python-simulation/blob/main/linearRegression.ipynb\" target=\"_parent\"><img src=\"https://colab.research.google.com/assets/colab-badge.svg\" alt=\"Open In Colab\"/></a>"
      ]
    },
    {
      "cell_type": "code",
      "source": [
        "# mount Google Drive\n",
        "from google.colab import drive\n",
        "drive.mount('/content/drive')"
      ],
      "metadata": {
        "colab": {
          "base_uri": "https://localhost:8080/"
        },
        "id": "qORqCu0Fqbb3",
        "outputId": "1558054e-084d-4041-87ec-da1ef42bc21c"
      },
      "execution_count": null,
      "outputs": [
        {
          "output_type": "stream",
          "name": "stdout",
          "text": [
            "Drive already mounted at /content/drive; to attempt to forcibly remount, call drive.mount(\"/content/drive\", force_remount=True).\n"
          ]
        }
      ]
    },
    {
      "cell_type": "code",
      "source": [
        "# load dataset\n",
        "import pandas as pd\n",
        "df = pd.read_excel('/content/drive/My Drive/Copy_patients.xlsx')"
      ],
      "metadata": {
        "id": "i_cVzxJbqfgi"
      },
      "execution_count": null,
      "outputs": []
    },
    {
      "cell_type": "code",
      "execution_count": null,
      "metadata": {
        "id": "IKg_BQ7ip-jR"
      },
      "outputs": [],
      "source": [
        "# change categorical data to numerical\n",
        "df['Status'].replace(['Excellent','Good','Fair','Poor'],[4,3,2,1],inplace=True);\n",
        "df=pd.get_dummies(df,columns=['Gender','Smoker'],drop_first=True);   #changed the gender and smoker to two boolean type"
      ]
    },
    {
      "cell_type": "code",
      "source": [
        "# calculate correlation matrix for data columns\n",
        "Corr=df.corr()\n",
        "# correlation value is between 0-1 and 1 means max correlation positive"
      ],
      "metadata": {
        "id": "YE4Hm9SoACz8"
      },
      "execution_count": null,
      "outputs": []
    },
    {
      "cell_type": "code",
      "source": [
        "# response variable\n",
        "y=df['Systolic'].values"
      ],
      "metadata": {
        "id": "2_HhsTBnAnWg"
      },
      "execution_count": null,
      "outputs": []
    },
    {
      "cell_type": "code",
      "source": [
        "# predictor value\n",
        "x=df[['Age','Height','Weight','Gender_Male','Smoker_True']].values"
      ],
      "metadata": {
        "id": "bcq6VGRjBEJz"
      },
      "execution_count": null,
      "outputs": []
    },
    {
      "cell_type": "markdown",
      "source": [
        "# here linear regression with scikit learn starts\n"
      ],
      "metadata": {
        "id": "6BBM2lzLW5JO"
      }
    },
    {
      "cell_type": "code",
      "source": [
        "from sklearn.linear_model import LinearRegression\n",
        "# define model\n",
        "model=LinearRegression()\n",
        "# means train the model and get the regression parameters value\n",
        "# note: here fit_intercept is the b0 that was const coef in our equation which by default is true\n",
        "model.fit(x,y)\n",
        "# r2 is calculated which was between 0-1 which 1 meant very good fitted and 0 meant chance level and output is const\n",
        "model.score(x,y)\n",
        "# see the coefficient of equation that was given to each predictor parameter that we had to compare these coefficient it is better that the data had been normalized\n",
        "coef=model.coef_\n",
        "# see the const coefficient of the equation\n",
        "const_coef=model.intercept_"
      ],
      "metadata": {
        "id": "Vd48FimgBuHD"
      },
      "execution_count": null,
      "outputs": []
    },
    {
      "cell_type": "code",
      "source": [
        "# predict the response value we wanted to predict\n",
        "y_pred=model.predict(x)"
      ],
      "metadata": {
        "id": "aRs4hsPwDurg"
      },
      "execution_count": null,
      "outputs": []
    },
    {
      "cell_type": "code",
      "source": [
        "# now that we have the pred value we can calculate r2 in another way\n",
        "from sklearn.metrics import r2_score,mean_squared_error\n",
        "r2_score(y,y_pred)\n",
        "# means if we y-ypred for each row then we raised it by power of 2 and calculate the mean of it how much is that this is  also another measure to evaluate the model but r2 is better\n",
        "mean_squared_error(y,y_pred)"
      ],
      "metadata": {
        "colab": {
          "base_uri": "https://localhost:8080/"
        },
        "id": "UBVWwrd5EJxs",
        "outputId": "d5d408f7-73d3-4b1b-c9e5-c6baa3f33dd1"
      },
      "execution_count": null,
      "outputs": [
        {
          "output_type": "execute_result",
          "data": {
            "text/plain": [
              "21.593096827011642"
            ]
          },
          "metadata": {},
          "execution_count": 75
        }
      ]
    },
    {
      "cell_type": "markdown",
      "source": [
        "#### if we want to compare model coefficients we should normalize it or do standardization on it we have 2 important type here\n"
      ],
      "metadata": {
        "id": "cBT2y4R2MX6g"
      }
    },
    {
      "cell_type": "code",
      "source": [
        "# 1.zscore: for each column mean of number is 0 and standard derivation 1 and the values become between -1,1 and they can be even more than that when it is a greater value, in some resources this is calld standardization\n",
        "import numpy as np\n",
        "from scipy.stats import zscore\n",
        "import copy\n",
        "#to create a copy of data & put it in another variable\n",
        "x2=copy.copy(x)\n",
        "# note: we would not write x2=x because they will become 1 and point at the same point of memory both and changing one can change the other simulatniously but we dont want to do that\n",
        "x_new = np.array(x, dtype=int) #add this due to TypeError: loop of ufunc does not support argument 0 of type float which has no callable sqrt method\n",
        "x=zscore(x_new) #by default it will do it on columns but if we want to do zscore operation on rows we add axis=1 param to input of zscore()\n",
        "model=LinearRegression()\n",
        "model.fit(x,y)\n",
        "model.score(x,y)\n",
        "coef2=model.coef_ #values has changed but tehy keep themself meaning that value 4 is still the highest among the coefficients and means it still is more important & has more effects on patient"
      ],
      "metadata": {
        "id": "7IBDs3fwFgly"
      },
      "execution_count": null,
      "outputs": []
    },
    {
      "cell_type": "code",
      "source": [
        "# 2.minmaxscaler: max of each column would be 1 and min 0 mean that the values in each column would become between 0-1, in some resources this is calld normalization\n",
        "from sklearn.preprocessing import MinMaxScaler\n",
        "scaler=MinMaxScaler()\n",
        "# first we should fit this function on data then transform to max 1 min 0 use ; between them is like adding an enter mean that it should be run after it\n",
        "scaler.fit(x);x=scaler.transform(x)\n",
        "model=LinearRegression()\n",
        "model.fit(x,y)\n",
        "model.score(x,y)\n",
        "coef3=model.coef_\n",
        "# note: neither standardization nor normalization have no effect on the r2 score of our model but it can help us compare coefficients better"
      ],
      "metadata": {
        "id": "SoTLzRyFMNBJ"
      },
      "execution_count": null,
      "outputs": []
    },
    {
      "cell_type": "markdown",
      "source": [
        "######to improve the r2 value we can use polynomial features which creates new reponse variable for us by combination of  predictor values that we have meaning that it uses the following equation:\n",
        "𝑓(𝑥₁, 𝑥₂) = 𝑏₀ + 𝑏₁𝑥₁ + 𝑏₂𝑥₂ + 𝑏₃𝑥₁² + 𝑏₄𝑥₁𝑥₂ + 𝑏₅𝑥₂²"
      ],
      "metadata": {
        "id": "xG33ES2BOHlL"
      }
    },
    {
      "cell_type": "code",
      "source": [
        "x=copy.copy(x2)\n",
        "from sklearn.pipeline import Pipeline\n",
        "from sklearn.preprocessing import PolynomialFeatures\n",
        "from sklearn.linear_model import LinearRegression\n",
        "import numpy as np\n",
        "# degree of predictor variables power in max state we want to have a loop on it\n",
        "degrees=[1,2,3,4,5,6,7,8,9] #also we could have written range(1,10)\n",
        "# note that this will create an power of 2 for your coeff and also multiply them\n",
        "for i in range(len(degrees)): #also we can wite range 9 which means that it would iterate 9 times\n",
        "  # degree max power of var means that for each times the degree would be i-th item of array\n",
        "  # include_bias is false by default\n",
        "  polynomial_features=PolynomialFeatures(degree=degrees[i],include_bias=False)\n",
        "  model=LinearRegression()\n",
        "  # pipeline is imported becausde our work has 2 steps 1-create polynomial featurs 2-linear regression is done\n",
        "  model2=Pipeline([(\"polynomial_features\",polynomial_features),(\"linear_regression\",model)])\n",
        "  model2.fit(x,y)\n",
        "  print('degree: ',degrees[i])\n",
        "  # number of features is the number of predictor variables that our model has created then had done regression using them\n",
        "  print('number of features: ',model.n_features_in_)\n",
        "  print('r2_score: ',model2.score(x,y))\n",
        "  # after degree 5 it had been saturated and did not get higher"
      ],
      "metadata": {
        "colab": {
          "base_uri": "https://localhost:8080/"
        },
        "id": "TsUGBjp4N2He",
        "outputId": "27556e8e-2d09-4c0b-f6f7-23f6d493cd24"
      },
      "execution_count": null,
      "outputs": [
        {
          "output_type": "stream",
          "name": "stdout",
          "text": [
            "degree:  1\n",
            "number of features:  5\n",
            "r2_score:  0.5172329717745202\n",
            "degree:  2\n",
            "number of features:  20\n",
            "r2_score:  0.584596961222823\n",
            "degree:  3\n",
            "number of features:  55\n",
            "r2_score:  0.681249185894901\n",
            "degree:  4\n",
            "number of features:  125\n",
            "r2_score:  0.7536088776122523\n",
            "degree:  5\n",
            "number of features:  251\n",
            "r2_score:  0.7524710530766483\n",
            "degree:  6\n",
            "number of features:  461\n",
            "r2_score:  0.7552591871099217\n",
            "degree:  7\n",
            "number of features:  791\n",
            "r2_score:  0.7552903529824331\n",
            "degree:  8\n",
            "number of features:  1286\n",
            "r2_score:  0.7552903529824331\n",
            "degree:  9\n",
            "number of features:  2001\n",
            "r2_score:  0.7552903529824331\n"
          ]
        }
      ]
    },
    {
      "cell_type": "code",
      "source": [
        "# without loop\n",
        "polynomial_features=PolynomialFeatures(degree=5,include_bias=False)\n",
        "model=LinearRegression()\n",
        "model2=Pipeline([(\"polynomial_features\",polynomial_features),(\"linear_regression\",model)])\n",
        "# note that here after we fit x we had also predict it with x too meaning that it had been trained and tested with the same value that we had do this alot in regression\n",
        "model2.fit(x,y)\n",
        "y_pred=model2.predict(x)"
      ],
      "metadata": {
        "id": "HHSFO5tRTDB1"
      },
      "execution_count": null,
      "outputs": []
    },
    {
      "cell_type": "code",
      "source": [
        "# to test if it is overfitting we use cross-validation\n",
        "from sklearn.model_selection import cross_val_score\n",
        "import numpy as np\n",
        "\n",
        "degrees=[1,2,3,4,5,6,7,8,9]\n",
        "for i in range(len(degrees)):\n",
        "  polynomial_features=PolynomialFeatures(degree=degrees[i],include_bias=False)\n",
        "  model=LinearRegression()\n",
        "  pipeline=Pipeline([(\"polynomial_features\",polynomial_features),(\"linear_regression\",model)])\n",
        "  print('degree: ',degrees[i])\n",
        "  # model that we want to do cross validation on it, data, optimal output of data, scoring method, cv means that divide x data into 3 parts then do the training and test on it 3 times each time one of those 3 parts is chosen as test and use the other 2 to train the model\n",
        "  scores=cross_val_score(pipeline,x,y,scoring=\"r2\",cv=3)\n",
        "  # this cv=3 will gives us 3 scores then we calculat ethe mean of them\n",
        "  print('r2_score: ',np.mean(scores))\n",
        "  # this - in results means that we have overfitting in our data\n",
        "  # note that creating new predictor variables using polynomial might lead to overfitting when our data is so small!"
      ],
      "metadata": {
        "colab": {
          "base_uri": "https://localhost:8080/"
        },
        "id": "41V5QzvaT455",
        "outputId": "a62540dc-a3f9-41c9-97af-86f16eeeebca"
      },
      "execution_count": null,
      "outputs": [
        {
          "output_type": "stream",
          "name": "stdout",
          "text": [
            "degree:  1\n",
            "r2_score:  0.41786302682533\n",
            "degree:  2\n",
            "r2_score:  0.18611693144479893\n",
            "degree:  3\n",
            "r2_score:  -2.2064218607214187e+25\n",
            "degree:  4\n",
            "r2_score:  -7.85934313714828e+23\n",
            "degree:  5\n",
            "r2_score:  -0.037720867226193756\n",
            "degree:  6\n",
            "r2_score:  -4.374450294236735e+21\n",
            "degree:  7\n",
            "r2_score:  -3.7395626773552067e+22\n",
            "degree:  8\n",
            "r2_score:  -5.1480872668670047e+26\n",
            "degree:  9\n",
            "r2_score:  -5.5832503326419785\n"
          ]
        }
      ]
    },
    {
      "cell_type": "markdown",
      "source": [
        "# here linear regression with statsmodel starts\n"
      ],
      "metadata": {
        "id": "RTJme19ZW7oC"
      }
    },
    {
      "cell_type": "code",
      "source": [
        "!pip install statsmodels"
      ],
      "metadata": {
        "colab": {
          "base_uri": "https://localhost:8080/"
        },
        "id": "LAr95tB1XAjn",
        "outputId": "691d04df-aa0a-4673-b4ee-ad7397edc558"
      },
      "execution_count": null,
      "outputs": [
        {
          "output_type": "stream",
          "name": "stdout",
          "text": [
            "Requirement already satisfied: statsmodels in /usr/local/lib/python3.10/dist-packages (0.14.2)\n",
            "Requirement already satisfied: numpy>=1.22.3 in /usr/local/lib/python3.10/dist-packages (from statsmodels) (1.25.2)\n",
            "Requirement already satisfied: scipy!=1.9.2,>=1.8 in /usr/local/lib/python3.10/dist-packages (from statsmodels) (1.11.4)\n",
            "Requirement already satisfied: pandas!=2.1.0,>=1.4 in /usr/local/lib/python3.10/dist-packages (from statsmodels) (2.0.3)\n",
            "Requirement already satisfied: patsy>=0.5.6 in /usr/local/lib/python3.10/dist-packages (from statsmodels) (0.5.6)\n",
            "Requirement already satisfied: packaging>=21.3 in /usr/local/lib/python3.10/dist-packages (from statsmodels) (24.0)\n",
            "Requirement already satisfied: python-dateutil>=2.8.2 in /usr/local/lib/python3.10/dist-packages (from pandas!=2.1.0,>=1.4->statsmodels) (2.8.2)\n",
            "Requirement already satisfied: pytz>=2020.1 in /usr/local/lib/python3.10/dist-packages (from pandas!=2.1.0,>=1.4->statsmodels) (2023.4)\n",
            "Requirement already satisfied: tzdata>=2022.1 in /usr/local/lib/python3.10/dist-packages (from pandas!=2.1.0,>=1.4->statsmodels) (2024.1)\n",
            "Requirement already satisfied: six in /usr/local/lib/python3.10/dist-packages (from patsy>=0.5.6->statsmodels) (1.16.0)\n"
          ]
        }
      ]
    },
    {
      "cell_type": "code",
      "source": [
        "# the difference is that it will give you more parameters & values in its output and with higher accuracy but we can't use polynomial feature or use it in for loop\n",
        "import statsmodels.api as sm\n",
        "import numpy as np\n",
        "# this will add an constant column to x which means that this library doesn't has the const coef by default so we need to add this to our data\n",
        "x=sm.add_constant(x)\n",
        "# ols->ordinary list square will do regression for us\n",
        "model=sm.OLS(y,x)\n",
        "# fit does not get any input\n",
        "results=model.fit()\n",
        "# can see r2\n",
        "print(results.rsquared)\n",
        "# we can observe that both of this libraries will give us the same result for r2 and they are working just like each other"
      ],
      "metadata": {
        "colab": {
          "base_uri": "https://localhost:8080/"
        },
        "id": "ddEf6PfpmcY9",
        "outputId": "077eeeb3-19f6-4426-a945-3f8657ff7538"
      },
      "execution_count": null,
      "outputs": [
        {
          "output_type": "stream",
          "name": "stdout",
          "text": [
            "0.5172329717745202\n"
          ]
        }
      ]
    },
    {
      "cell_type": "code",
      "source": [
        "# it will give you in details what had your regression model done with this library\n",
        "# Adj. R-squared says that if 2 model has equal r2 the model that is better has less predictor variables will get higher adjust_r2\n",
        "# P>|t| is equal to p-value it says that those predictor variables that their p-value is less than 0.05 or 0.001 has an impactful meaning in our output so that we can see except the const x5 which was smoker has less p-value or x4 has a large number which means that it has no effect on the model\n",
        "# it says that in our data there is a large correlation between variables to check on this multicollinearity we go to corr that we had built earlier\n",
        "print(results.summary())"
      ],
      "metadata": {
        "colab": {
          "base_uri": "https://localhost:8080/"
        },
        "id": "7PIst63ZoIFH",
        "outputId": "ad69dbc7-168a-489c-c3de-43bfb0aec3ed"
      },
      "execution_count": null,
      "outputs": [
        {
          "output_type": "stream",
          "name": "stdout",
          "text": [
            "                            OLS Regression Results                            \n",
            "==============================================================================\n",
            "Dep. Variable:                      y   R-squared:                       0.517\n",
            "Model:                            OLS   Adj. R-squared:                  0.492\n",
            "Method:                 Least Squares   F-statistic:                     20.14\n",
            "Date:                Mon, 27 May 2024   Prob (F-statistic):           1.32e-13\n",
            "Time:                        15:17:31   Log-Likelihood:                -295.38\n",
            "No. Observations:                 100   AIC:                             602.8\n",
            "Df Residuals:                      94   BIC:                             618.4\n",
            "Df Model:                           5                                         \n",
            "Covariance Type:            nonrobust                                         \n",
            "==============================================================================\n",
            "                 coef    std err          t      P>|t|      [0.025      0.975]\n",
            "------------------------------------------------------------------------------\n",
            "const        122.7800      0.479    256.507      0.000     121.830     123.730\n",
            "x1             0.4358      0.480      0.909      0.366      -0.516       1.388\n",
            "x2             0.9824      0.601      1.635      0.105      -0.211       2.176\n",
            "x3            -0.0356      0.645     -0.055      0.956      -1.316       1.245\n",
            "x4            -0.5234      0.757     -0.691      0.491      -2.026       0.980\n",
            "x5             4.6959      0.491      9.556      0.000       3.720       5.672\n",
            "==============================================================================\n",
            "Omnibus:                        4.106   Durbin-Watson:                   1.841\n",
            "Prob(Omnibus):                  0.128   Jarque-Bera (JB):                3.814\n",
            "Skew:                           0.409   Prob(JB):                        0.149\n",
            "Kurtosis:                       2.505   Cond. No.                         2.88\n",
            "==============================================================================\n",
            "\n",
            "Notes:\n",
            "[1] Standard Errors assume that the covariance matrix of the errors is correctly specified.\n"
          ]
        }
      ]
    },
    {
      "cell_type": "code",
      "source": [
        "# we can observe 2thing we wanted the model to predict the systolic blood pressure from regression model and we use smoker as a predictor variable\n",
        "# we saw it has 0.7 correlation with systolic which is high thats why it gets a higher coef and lower p-value\n",
        "# on the other side we can see that gender and weight has 0.9 correlation with each other which means they have the same effect that are not predicators\n",
        "# it is here that correlation matrix will help us in feature selection when we have a wide variety of features and use it in regression model preferably predicator variables like x1,x2,x3 have no correlation with each other and be independant\n",
        "# also does'nt have high correlation with output\n",
        "Corr"
      ],
      "metadata": {
        "colab": {
          "base_uri": "https://localhost:8080/",
          "height": 300
        },
        "id": "VNknfLmiqgqE",
        "outputId": "99617054-5092-4b25-a64d-b31b1b2208b8"
      },
      "execution_count": null,
      "outputs": [
        {
          "output_type": "execute_result",
          "data": {
            "text/plain": [
              "                  Age    Height    Weight  Systolic  Diastolic    Status  \\\n",
              "Age          1.000000  0.116002  0.091356  0.134127   0.080597  0.072022   \n",
              "Height       0.116002  1.000000  0.695970  0.214076   0.156819  0.019152   \n",
              "Weight       0.091356  0.695970  1.000000  0.155788   0.222687  0.062000   \n",
              "Systolic     0.134127  0.214076  0.155788  1.000000   0.511843  0.054892   \n",
              "Diastolic    0.080597  0.156819  0.222687  0.511843   1.000000  0.043437   \n",
              "Status       0.072022  0.019152  0.062000  0.054892   0.043437  1.000000   \n",
              "Gender_Male  0.083279  0.722073  0.945034  0.160008   0.217507 -0.012264   \n",
              "Smoker_True  0.060220  0.199114  0.215586  0.706323   0.723365  0.000438   \n",
              "\n",
              "             Gender_Male  Smoker_True  \n",
              "Age             0.083279     0.060220  \n",
              "Height          0.722073     0.199114  \n",
              "Weight          0.945034     0.215586  \n",
              "Systolic        0.160008     0.706323  \n",
              "Diastolic       0.217507     0.723365  \n",
              "Status         -0.012264     0.000438  \n",
              "Gender_Male     1.000000     0.212327  \n",
              "Smoker_True     0.212327     1.000000  "
            ],
            "text/html": [
              "\n",
              "  <div id=\"df-673eca1d-d1e5-4337-a445-bc2a99b3a2ac\" class=\"colab-df-container\">\n",
              "    <div>\n",
              "<style scoped>\n",
              "    .dataframe tbody tr th:only-of-type {\n",
              "        vertical-align: middle;\n",
              "    }\n",
              "\n",
              "    .dataframe tbody tr th {\n",
              "        vertical-align: top;\n",
              "    }\n",
              "\n",
              "    .dataframe thead th {\n",
              "        text-align: right;\n",
              "    }\n",
              "</style>\n",
              "<table border=\"1\" class=\"dataframe\">\n",
              "  <thead>\n",
              "    <tr style=\"text-align: right;\">\n",
              "      <th></th>\n",
              "      <th>Age</th>\n",
              "      <th>Height</th>\n",
              "      <th>Weight</th>\n",
              "      <th>Systolic</th>\n",
              "      <th>Diastolic</th>\n",
              "      <th>Status</th>\n",
              "      <th>Gender_Male</th>\n",
              "      <th>Smoker_True</th>\n",
              "    </tr>\n",
              "  </thead>\n",
              "  <tbody>\n",
              "    <tr>\n",
              "      <th>Age</th>\n",
              "      <td>1.000000</td>\n",
              "      <td>0.116002</td>\n",
              "      <td>0.091356</td>\n",
              "      <td>0.134127</td>\n",
              "      <td>0.080597</td>\n",
              "      <td>0.072022</td>\n",
              "      <td>0.083279</td>\n",
              "      <td>0.060220</td>\n",
              "    </tr>\n",
              "    <tr>\n",
              "      <th>Height</th>\n",
              "      <td>0.116002</td>\n",
              "      <td>1.000000</td>\n",
              "      <td>0.695970</td>\n",
              "      <td>0.214076</td>\n",
              "      <td>0.156819</td>\n",
              "      <td>0.019152</td>\n",
              "      <td>0.722073</td>\n",
              "      <td>0.199114</td>\n",
              "    </tr>\n",
              "    <tr>\n",
              "      <th>Weight</th>\n",
              "      <td>0.091356</td>\n",
              "      <td>0.695970</td>\n",
              "      <td>1.000000</td>\n",
              "      <td>0.155788</td>\n",
              "      <td>0.222687</td>\n",
              "      <td>0.062000</td>\n",
              "      <td>0.945034</td>\n",
              "      <td>0.215586</td>\n",
              "    </tr>\n",
              "    <tr>\n",
              "      <th>Systolic</th>\n",
              "      <td>0.134127</td>\n",
              "      <td>0.214076</td>\n",
              "      <td>0.155788</td>\n",
              "      <td>1.000000</td>\n",
              "      <td>0.511843</td>\n",
              "      <td>0.054892</td>\n",
              "      <td>0.160008</td>\n",
              "      <td>0.706323</td>\n",
              "    </tr>\n",
              "    <tr>\n",
              "      <th>Diastolic</th>\n",
              "      <td>0.080597</td>\n",
              "      <td>0.156819</td>\n",
              "      <td>0.222687</td>\n",
              "      <td>0.511843</td>\n",
              "      <td>1.000000</td>\n",
              "      <td>0.043437</td>\n",
              "      <td>0.217507</td>\n",
              "      <td>0.723365</td>\n",
              "    </tr>\n",
              "    <tr>\n",
              "      <th>Status</th>\n",
              "      <td>0.072022</td>\n",
              "      <td>0.019152</td>\n",
              "      <td>0.062000</td>\n",
              "      <td>0.054892</td>\n",
              "      <td>0.043437</td>\n",
              "      <td>1.000000</td>\n",
              "      <td>-0.012264</td>\n",
              "      <td>0.000438</td>\n",
              "    </tr>\n",
              "    <tr>\n",
              "      <th>Gender_Male</th>\n",
              "      <td>0.083279</td>\n",
              "      <td>0.722073</td>\n",
              "      <td>0.945034</td>\n",
              "      <td>0.160008</td>\n",
              "      <td>0.217507</td>\n",
              "      <td>-0.012264</td>\n",
              "      <td>1.000000</td>\n",
              "      <td>0.212327</td>\n",
              "    </tr>\n",
              "    <tr>\n",
              "      <th>Smoker_True</th>\n",
              "      <td>0.060220</td>\n",
              "      <td>0.199114</td>\n",
              "      <td>0.215586</td>\n",
              "      <td>0.706323</td>\n",
              "      <td>0.723365</td>\n",
              "      <td>0.000438</td>\n",
              "      <td>0.212327</td>\n",
              "      <td>1.000000</td>\n",
              "    </tr>\n",
              "  </tbody>\n",
              "</table>\n",
              "</div>\n",
              "    <div class=\"colab-df-buttons\">\n",
              "\n",
              "  <div class=\"colab-df-container\">\n",
              "    <button class=\"colab-df-convert\" onclick=\"convertToInteractive('df-673eca1d-d1e5-4337-a445-bc2a99b3a2ac')\"\n",
              "            title=\"Convert this dataframe to an interactive table.\"\n",
              "            style=\"display:none;\">\n",
              "\n",
              "  <svg xmlns=\"http://www.w3.org/2000/svg\" height=\"24px\" viewBox=\"0 -960 960 960\">\n",
              "    <path d=\"M120-120v-720h720v720H120Zm60-500h600v-160H180v160Zm220 220h160v-160H400v160Zm0 220h160v-160H400v160ZM180-400h160v-160H180v160Zm440 0h160v-160H620v160ZM180-180h160v-160H180v160Zm440 0h160v-160H620v160Z\"/>\n",
              "  </svg>\n",
              "    </button>\n",
              "\n",
              "  <style>\n",
              "    .colab-df-container {\n",
              "      display:flex;\n",
              "      gap: 12px;\n",
              "    }\n",
              "\n",
              "    .colab-df-convert {\n",
              "      background-color: #E8F0FE;\n",
              "      border: none;\n",
              "      border-radius: 50%;\n",
              "      cursor: pointer;\n",
              "      display: none;\n",
              "      fill: #1967D2;\n",
              "      height: 32px;\n",
              "      padding: 0 0 0 0;\n",
              "      width: 32px;\n",
              "    }\n",
              "\n",
              "    .colab-df-convert:hover {\n",
              "      background-color: #E2EBFA;\n",
              "      box-shadow: 0px 1px 2px rgba(60, 64, 67, 0.3), 0px 1px 3px 1px rgba(60, 64, 67, 0.15);\n",
              "      fill: #174EA6;\n",
              "    }\n",
              "\n",
              "    .colab-df-buttons div {\n",
              "      margin-bottom: 4px;\n",
              "    }\n",
              "\n",
              "    [theme=dark] .colab-df-convert {\n",
              "      background-color: #3B4455;\n",
              "      fill: #D2E3FC;\n",
              "    }\n",
              "\n",
              "    [theme=dark] .colab-df-convert:hover {\n",
              "      background-color: #434B5C;\n",
              "      box-shadow: 0px 1px 3px 1px rgba(0, 0, 0, 0.15);\n",
              "      filter: drop-shadow(0px 1px 2px rgba(0, 0, 0, 0.3));\n",
              "      fill: #FFFFFF;\n",
              "    }\n",
              "  </style>\n",
              "\n",
              "    <script>\n",
              "      const buttonEl =\n",
              "        document.querySelector('#df-673eca1d-d1e5-4337-a445-bc2a99b3a2ac button.colab-df-convert');\n",
              "      buttonEl.style.display =\n",
              "        google.colab.kernel.accessAllowed ? 'block' : 'none';\n",
              "\n",
              "      async function convertToInteractive(key) {\n",
              "        const element = document.querySelector('#df-673eca1d-d1e5-4337-a445-bc2a99b3a2ac');\n",
              "        const dataTable =\n",
              "          await google.colab.kernel.invokeFunction('convertToInteractive',\n",
              "                                                    [key], {});\n",
              "        if (!dataTable) return;\n",
              "\n",
              "        const docLinkHtml = 'Like what you see? Visit the ' +\n",
              "          '<a target=\"_blank\" href=https://colab.research.google.com/notebooks/data_table.ipynb>data table notebook</a>'\n",
              "          + ' to learn more about interactive tables.';\n",
              "        element.innerHTML = '';\n",
              "        dataTable['output_type'] = 'display_data';\n",
              "        await google.colab.output.renderOutput(dataTable, element);\n",
              "        const docLink = document.createElement('div');\n",
              "        docLink.innerHTML = docLinkHtml;\n",
              "        element.appendChild(docLink);\n",
              "      }\n",
              "    </script>\n",
              "  </div>\n",
              "\n",
              "\n",
              "<div id=\"df-e1218a17-fe01-4516-836f-ec31217ac40d\">\n",
              "  <button class=\"colab-df-quickchart\" onclick=\"quickchart('df-e1218a17-fe01-4516-836f-ec31217ac40d')\"\n",
              "            title=\"Suggest charts\"\n",
              "            style=\"display:none;\">\n",
              "\n",
              "<svg xmlns=\"http://www.w3.org/2000/svg\" height=\"24px\"viewBox=\"0 0 24 24\"\n",
              "     width=\"24px\">\n",
              "    <g>\n",
              "        <path d=\"M19 3H5c-1.1 0-2 .9-2 2v14c0 1.1.9 2 2 2h14c1.1 0 2-.9 2-2V5c0-1.1-.9-2-2-2zM9 17H7v-7h2v7zm4 0h-2V7h2v10zm4 0h-2v-4h2v4z\"/>\n",
              "    </g>\n",
              "</svg>\n",
              "  </button>\n",
              "\n",
              "<style>\n",
              "  .colab-df-quickchart {\n",
              "      --bg-color: #E8F0FE;\n",
              "      --fill-color: #1967D2;\n",
              "      --hover-bg-color: #E2EBFA;\n",
              "      --hover-fill-color: #174EA6;\n",
              "      --disabled-fill-color: #AAA;\n",
              "      --disabled-bg-color: #DDD;\n",
              "  }\n",
              "\n",
              "  [theme=dark] .colab-df-quickchart {\n",
              "      --bg-color: #3B4455;\n",
              "      --fill-color: #D2E3FC;\n",
              "      --hover-bg-color: #434B5C;\n",
              "      --hover-fill-color: #FFFFFF;\n",
              "      --disabled-bg-color: #3B4455;\n",
              "      --disabled-fill-color: #666;\n",
              "  }\n",
              "\n",
              "  .colab-df-quickchart {\n",
              "    background-color: var(--bg-color);\n",
              "    border: none;\n",
              "    border-radius: 50%;\n",
              "    cursor: pointer;\n",
              "    display: none;\n",
              "    fill: var(--fill-color);\n",
              "    height: 32px;\n",
              "    padding: 0;\n",
              "    width: 32px;\n",
              "  }\n",
              "\n",
              "  .colab-df-quickchart:hover {\n",
              "    background-color: var(--hover-bg-color);\n",
              "    box-shadow: 0 1px 2px rgba(60, 64, 67, 0.3), 0 1px 3px 1px rgba(60, 64, 67, 0.15);\n",
              "    fill: var(--button-hover-fill-color);\n",
              "  }\n",
              "\n",
              "  .colab-df-quickchart-complete:disabled,\n",
              "  .colab-df-quickchart-complete:disabled:hover {\n",
              "    background-color: var(--disabled-bg-color);\n",
              "    fill: var(--disabled-fill-color);\n",
              "    box-shadow: none;\n",
              "  }\n",
              "\n",
              "  .colab-df-spinner {\n",
              "    border: 2px solid var(--fill-color);\n",
              "    border-color: transparent;\n",
              "    border-bottom-color: var(--fill-color);\n",
              "    animation:\n",
              "      spin 1s steps(1) infinite;\n",
              "  }\n",
              "\n",
              "  @keyframes spin {\n",
              "    0% {\n",
              "      border-color: transparent;\n",
              "      border-bottom-color: var(--fill-color);\n",
              "      border-left-color: var(--fill-color);\n",
              "    }\n",
              "    20% {\n",
              "      border-color: transparent;\n",
              "      border-left-color: var(--fill-color);\n",
              "      border-top-color: var(--fill-color);\n",
              "    }\n",
              "    30% {\n",
              "      border-color: transparent;\n",
              "      border-left-color: var(--fill-color);\n",
              "      border-top-color: var(--fill-color);\n",
              "      border-right-color: var(--fill-color);\n",
              "    }\n",
              "    40% {\n",
              "      border-color: transparent;\n",
              "      border-right-color: var(--fill-color);\n",
              "      border-top-color: var(--fill-color);\n",
              "    }\n",
              "    60% {\n",
              "      border-color: transparent;\n",
              "      border-right-color: var(--fill-color);\n",
              "    }\n",
              "    80% {\n",
              "      border-color: transparent;\n",
              "      border-right-color: var(--fill-color);\n",
              "      border-bottom-color: var(--fill-color);\n",
              "    }\n",
              "    90% {\n",
              "      border-color: transparent;\n",
              "      border-bottom-color: var(--fill-color);\n",
              "    }\n",
              "  }\n",
              "</style>\n",
              "\n",
              "  <script>\n",
              "    async function quickchart(key) {\n",
              "      const quickchartButtonEl =\n",
              "        document.querySelector('#' + key + ' button');\n",
              "      quickchartButtonEl.disabled = true;  // To prevent multiple clicks.\n",
              "      quickchartButtonEl.classList.add('colab-df-spinner');\n",
              "      try {\n",
              "        const charts = await google.colab.kernel.invokeFunction(\n",
              "            'suggestCharts', [key], {});\n",
              "      } catch (error) {\n",
              "        console.error('Error during call to suggestCharts:', error);\n",
              "      }\n",
              "      quickchartButtonEl.classList.remove('colab-df-spinner');\n",
              "      quickchartButtonEl.classList.add('colab-df-quickchart-complete');\n",
              "    }\n",
              "    (() => {\n",
              "      let quickchartButtonEl =\n",
              "        document.querySelector('#df-e1218a17-fe01-4516-836f-ec31217ac40d button');\n",
              "      quickchartButtonEl.style.display =\n",
              "        google.colab.kernel.accessAllowed ? 'block' : 'none';\n",
              "    })();\n",
              "  </script>\n",
              "</div>\n",
              "    </div>\n",
              "  </div>\n"
            ],
            "application/vnd.google.colaboratory.intrinsic+json": {
              "type": "dataframe",
              "variable_name": "Corr",
              "summary": "{\n  \"name\": \"Corr\",\n  \"rows\": 8,\n  \"fields\": [\n    {\n      \"column\": \"Age\",\n      \"properties\": {\n        \"dtype\": \"number\",\n        \"std\": 0.32222868289749307,\n        \"min\": 0.0602198373148455,\n        \"max\": 1.0,\n        \"num_unique_values\": 8,\n        \"samples\": [\n          0.11600246397194157,\n          0.07202244415713699,\n          1.0\n        ],\n        \"semantic_type\": \"\",\n        \"description\": \"\"\n      }\n    },\n    {\n      \"column\": \"Height\",\n      \"properties\": {\n        \"dtype\": \"number\",\n        \"std\": 0.36062490570511224,\n        \"min\": 0.019151856408526065,\n        \"max\": 1.0,\n        \"num_unique_values\": 8,\n        \"samples\": [\n          1.0,\n          0.019151856408526065,\n          0.11600246397194157\n        ],\n        \"semantic_type\": \"\",\n        \"description\": \"\"\n      }\n    },\n    {\n      \"column\": \"Weight\",\n      \"properties\": {\n        \"dtype\": \"number\",\n        \"std\": 0.3918480907442582,\n        \"min\": 0.062000255929259854,\n        \"max\": 1.0,\n        \"num_unique_values\": 8,\n        \"samples\": [\n          0.6959696986555689,\n          0.062000255929259854,\n          0.0913561460935225\n        ],\n        \"semantic_type\": \"\",\n        \"description\": \"\"\n      }\n    },\n    {\n      \"column\": \"Systolic\",\n      \"properties\": {\n        \"dtype\": \"number\",\n        \"std\": 0.3379119827583632,\n        \"min\": 0.05489229837716289,\n        \"max\": 1.0,\n        \"num_unique_values\": 8,\n        \"samples\": [\n          0.21407555251019614,\n          0.05489229837716289,\n          0.13412699005101614\n        ],\n        \"semantic_type\": \"\",\n        \"description\": \"\"\n      }\n    },\n    {\n      \"column\": \"Diastolic\",\n      \"properties\": {\n        \"dtype\": \"number\",\n        \"std\": 0.34282093859368507,\n        \"min\": 0.04343712196480903,\n        \"max\": 1.0,\n        \"num_unique_values\": 8,\n        \"samples\": [\n          0.15681868945733238,\n          0.04343712196480903,\n          0.08059713910307341\n        ],\n        \"semantic_type\": \"\",\n        \"description\": \"\"\n      }\n    },\n    {\n      \"column\": \"Status\",\n      \"properties\": {\n        \"dtype\": \"number\",\n        \"std\": 0.3427511446673564,\n        \"min\": -0.012264050152094516,\n        \"max\": 1.0,\n        \"num_unique_values\": 8,\n        \"samples\": [\n          0.019151856408526065,\n          1.0,\n          0.07202244415713699\n        ],\n        \"semantic_type\": \"\",\n        \"description\": \"\"\n      }\n    },\n    {\n      \"column\": \"Gender_Male\",\n      \"properties\": {\n        \"dtype\": \"number\",\n        \"std\": 0.4062266535434259,\n        \"min\": -0.012264050152094516,\n        \"max\": 1.0,\n        \"num_unique_values\": 8,\n        \"samples\": [\n          0.722073113414609,\n          -0.012264050152094516,\n          0.0832785216335566\n        ],\n        \"semantic_type\": \"\",\n        \"description\": \"\"\n      }\n    },\n    {\n      \"column\": \"Smoker_True\",\n      \"properties\": {\n        \"dtype\": \"number\",\n        \"std\": 0.3668847341483087,\n        \"min\": 0.0004380133419047118,\n        \"max\": 1.0,\n        \"num_unique_values\": 8,\n        \"samples\": [\n          0.19911363850892677,\n          0.0004380133419047118,\n          0.0602198373148455\n        ],\n        \"semantic_type\": \"\",\n        \"description\": \"\"\n      }\n    }\n  ]\n}"
            }
          },
          "metadata": {},
          "execution_count": 105
        }
      ]
    }
  ]
}